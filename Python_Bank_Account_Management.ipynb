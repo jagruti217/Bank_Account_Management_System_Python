{
 "cells": [
  {
   "cell_type": "code",
   "execution_count": 1,
   "id": "cea9031a-33ca-4b05-9205-e69455745017",
   "metadata": {},
   "outputs": [
    {
     "name": "stdout",
     "output_type": "stream",
     "text": [
      "~~~~~~~~~~~~~~~~~~~~~~~ WELCOME to HDFC BANK ~~~~~~~~~~~~~~~~~~~~~~~~~\n",
      "\n",
      "How can we help you today?\n",
      "\n",
      "1. Open an Account\n",
      "2. View Account Details\n",
      "3. Perform Transactions (Withdraw/Deposit/Transfer)\n",
      "4. View Transaction History\n",
      "5. Exit\n"
     ]
    },
    {
     "name": "stdin",
     "output_type": "stream",
     "text": [
      "\n",
      "Enter your choice between 1 to 5:  1\n",
      "\n",
      "Enter First Name:  Jay\n",
      "Enter Last Name:  Jadhav\n",
      "Enter Age:  21\n",
      "Enter City Name:  Kalyan\n",
      "Enter Pan Card Number:  2345678\n",
      "Which type of account would you like to open? (Current/Savings):  Savings\n",
      "How much amount do you wish to deposit?  20000\n"
     ]
    },
    {
     "name": "stdout",
     "output_type": "stream",
     "text": [
      "\n",
      "Your Assigned username is Jay03\n",
      "Your Assigned password is 1292\n",
      "Account Number: 111122228715\n",
      "Account Type: Savings\n",
      "Your Initial balance is ₹ 20000\n",
      "\n",
      "\n",
      "1. Open an Account\n",
      "2. View Account Details\n",
      "3. Perform Transactions (Withdraw/Deposit/Transfer)\n",
      "4. View Transaction History\n",
      "5. Exit\n"
     ]
    },
    {
     "name": "stdin",
     "output_type": "stream",
     "text": [
      "\n",
      "Enter your choice between 1 to 5:  2\n",
      "Enter username:  Jay\n",
      "Enter password:  1292\n",
      "Enter pancard:  2345678\n"
     ]
    },
    {
     "name": "stdout",
     "output_type": "stream",
     "text": [
      "This account does not exist, try again!\n",
      "\n",
      "1. Open an Account\n",
      "2. View Account Details\n",
      "3. Perform Transactions (Withdraw/Deposit/Transfer)\n",
      "4. View Transaction History\n",
      "5. Exit\n"
     ]
    },
    {
     "name": "stdin",
     "output_type": "stream",
     "text": [
      "\n",
      "Enter your choice between 1 to 5:  2\n",
      "Enter username:  Jay03\n",
      "Enter password:  1292\n",
      "Enter pancard:  2345678\n"
     ]
    },
    {
     "name": "stdout",
     "output_type": "stream",
     "text": [
      "Your Account Details are: \n",
      "Account Number: 111122228715\n",
      "Account Holder's Name:  Jay Jadhav\n",
      "Account Type: Savings\n",
      "Total Balance is: ₹ 20000\n",
      "\n",
      "1. Open an Account\n",
      "2. View Account Details\n",
      "3. Perform Transactions (Withdraw/Deposit/Transfer)\n",
      "4. View Transaction History\n",
      "5. Exit\n"
     ]
    },
    {
     "name": "stdin",
     "output_type": "stream",
     "text": [
      "\n",
      "Enter your choice between 1 to 5:  4\n",
      "Enter username:  Jay03\n",
      "Enter password:  1292\n",
      "Enter pancard:  2345678\n"
     ]
    },
    {
     "name": "stdout",
     "output_type": "stream",
     "text": [
      "       Timestamp          | Type   | Amount  | Balance\n",
      "No transactions found!\n",
      "\n",
      "1. Open an Account\n",
      "2. View Account Details\n",
      "3. Perform Transactions (Withdraw/Deposit/Transfer)\n",
      "4. View Transaction History\n",
      "5. Exit\n"
     ]
    },
    {
     "name": "stdin",
     "output_type": "stream",
     "text": [
      "\n",
      "Enter your choice between 1 to 5:  5\n"
     ]
    },
    {
     "name": "stdout",
     "output_type": "stream",
     "text": [
      "Thank you for banking with us! Have a great day!\n"
     ]
    }
   ],
   "source": [
    "credentials = {}\n",
    "users_db = {}\n",
    "passbook = {}\n",
    "nested_t = {}\n",
    "import datetime\n",
    "import random\n",
    "\n",
    "print(\"~\" * 23, \"WELCOME to HDFC BANK\", \"~\" * 25)\n",
    "print(\"\\nHow can we help you today?\")\n",
    "\n",
    "while True:\n",
    "    print(\"\"\"\\n1. Open an Account\n",
    "2. View Account Details\n",
    "3. Perform Transactions (Withdraw/Deposit/Transfer)\n",
    "4. View Transaction History\n",
    "5. Exit\"\"\")\n",
    "\n",
    "    choice = int(input(\"\\nEnter your choice between 1 to 5: \"))\n",
    "\n",
    "    if choice == 1:  # Open an Account\n",
    "        fname = input(\"\\nEnter First Name: \")\n",
    "        lname = input(\"Enter Last Name: \")\n",
    "        age = input(\"Enter Age: \")\n",
    "        city = input(\"Enter City Name: \")\n",
    "        pancard = input(\"Enter Pan Card Number: \")\n",
    "        \n",
    "        if pancard in users_db.keys():\n",
    "            print(\"Your Account already exists! Try Again\")\n",
    "            continue\n",
    "\n",
    "        account_number = \"11112222\"\n",
    "        for i in range(4):  # Generate unique account number\n",
    "            account_number += str(random.randint(0, 9))\n",
    "        \n",
    "        account_type = input(\"Which type of account would you like to open? (Current/Savings): \")\n",
    "        balance = int(input(\"How much amount do you wish to deposit? \"))\n",
    "        \n",
    "        username = fname\n",
    "        for i in range(2):  # Generate username\n",
    "            username += str(random.randint(0, 9))\n",
    "        \n",
    "        password = \"\"\n",
    "        for i in range(4):  # Generate password\n",
    "            password += str(random.randint(0, 9))\n",
    "\n",
    "        print(\"\\nYour Assigned username is\", username)\n",
    "        print(\"Your Assigned password is\", password)\n",
    "        print(\"Account Number:\", account_number)\n",
    "        print(\"Account Type:\", account_type)\n",
    "        print(\"Your Initial balance is ₹\", balance)\n",
    "        print()\n",
    "\n",
    "        credentials[username] = password\n",
    "        users_db[pancard] = [fname, lname, account_number, account_type, balance]\n",
    "\n",
    "    elif choice == 2:  # View Account Details\n",
    "        un = input(\"Enter username: \")\n",
    "        ps = input(\"Enter password: \")\n",
    "        pc = input(\"Enter pancard: \")\n",
    "        if un in credentials.keys() and ps == credentials[un] and pc in users_db.keys():\n",
    "            print(\"Your Account Details are: \")\n",
    "            print(\"Account Number:\", users_db[pc][2])\n",
    "            print(\"Account Holder's Name: \", users_db[pc][0], users_db[pc][1])\n",
    "            print(\"Account Type:\", users_db[pc][3])\n",
    "            print(\"Total Balance is: ₹\", users_db[pc][4])\n",
    "        else:\n",
    "            print(\"This account does not exist, try again!\")\n",
    "\n",
    "    elif choice == 3:  # Perform Transactions\n",
    "        un = input(\"Enter username: \")\n",
    "        ps = input(\"Enter password: \")\n",
    "        pc = input(\"Enter pancard: \")\n",
    "        if un in credentials.keys() and ps == credentials[un] and pc in users_db.keys():\n",
    "            print(\"\"\"\n",
    "1. Deposit\n",
    "2. Withdraw\n",
    "3. Transfer\"\"\")\n",
    "            t_type = input(\"Enter transaction type: \").capitalize()\n",
    "\n",
    "            if t_type == \"Deposit\":  # Deposit\n",
    "                t_amount = float(input(\"Enter amount you wish to deposit: \"))\n",
    "                users_db[pc][4] += t_amount\n",
    "                timestamp = datetime.datetime.now()\n",
    "                print(\"Your current balance is: ₹\", users_db[pc][4])\n",
    "\n",
    "            elif t_type == \"Withdraw\":  # Withdraw\n",
    "                t_amount = float(input(\"Enter amount you wish to withdraw: \"))\n",
    "                if t_amount > users_db[pc][4]:\n",
    "                    print(\"You cannot withdraw more than the deposited amount\")\n",
    "                else:\n",
    "                    users_db[pc][4] -= t_amount\n",
    "                    timestamp = datetime.datetime.now()\n",
    "                    print(\"Remaining balance is: ₹\", users_db[pc][4])\n",
    "\n",
    "            elif t_type == \"Transfer\":  # Transfer\n",
    "                r_pancard = input(\"Enter receiver's pancard: \")\n",
    "                t_amount = float(input(\"Enter amount you want to transfer: \"))\n",
    "                if r_pancard in users_db.keys() and t_amount <= users_db[pc][4]:\n",
    "                    users_db[pc][4] -= t_amount\n",
    "                    users_db[r_pancard][4] += t_amount\n",
    "                    timestamp = datetime.datetime.now()\n",
    "                    print(\"Transfer successful! Remaining balance is: ₹\", users_db[pc][4])\n",
    "                else:\n",
    "                    print(\"Transfer failed! Insufficient balance or invalid receiver details.\")\n",
    "            \n",
    "            else:\n",
    "                print(\"Invalid transaction type!\")\n",
    "\n",
    "            nested_t[timestamp] = [t_type, t_amount, users_db[pc][4]]\n",
    "            passbook[pc] = nested_t\n",
    "        else:\n",
    "            print(\"This account does not exist, try again!\")\n",
    "\n",
    "    elif choice == 4:  # View Transaction History\n",
    "        un = input(\"Enter username: \")\n",
    "        ps = input(\"Enter password: \")\n",
    "        pc = input(\"Enter pancard: \")\n",
    "        if un in credentials.keys() and ps == credentials[un] and pc in users_db.keys():\n",
    "            print(\"       Timestamp          | Type   | Amount  | Balance\")\n",
    "            if pc in passbook:\n",
    "                for timestamp, details in passbook[pc].items():\n",
    "                    print(f\"{timestamp} | {details[0]} | ₹{details[1]} | ₹{details[2]}\")\n",
    "            else:\n",
    "                print(\"No transactions found!\")\n",
    "        else:\n",
    "            print(\"This account does not exist, try again!\")\n",
    "\n",
    "    elif choice == 5:  # Exit\n",
    "        print(\"Thank you for banking with us! Have a great day!\")\n",
    "        break\n",
    "\n",
    "    else:\n",
    "        print(\"Invalid choice! Please try again.\")\n"
   ]
  }
 ],
 "metadata": {
  "kernelspec": {
   "display_name": "Python 3 (ipykernel)",
   "language": "python",
   "name": "python3"
  },
  "language_info": {
   "codemirror_mode": {
    "name": "ipython",
    "version": 3
   },
   "file_extension": ".py",
   "mimetype": "text/x-python",
   "name": "python",
   "nbconvert_exporter": "python",
   "pygments_lexer": "ipython3",
   "version": "3.12.7"
  }
 },
 "nbformat": 4,
 "nbformat_minor": 5
}
